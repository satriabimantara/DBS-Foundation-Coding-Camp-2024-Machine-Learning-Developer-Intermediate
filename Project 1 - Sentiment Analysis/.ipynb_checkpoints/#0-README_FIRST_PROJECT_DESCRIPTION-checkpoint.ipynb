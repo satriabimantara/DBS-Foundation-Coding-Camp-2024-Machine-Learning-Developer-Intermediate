{
 "cells": [
  {
   "cell_type": "markdown",
   "id": "ac5e38c6",
   "metadata": {},
   "source": [
    "# Repository Structure\n",
    "***\n",
    "1. Project Folder\n",
    "- **./dataset** : menyimpan dataset .csv hasil web-scraping (episode 1 dan episode 2) serta file .csv hasil merging kedua file tersebut\n",
    "- **./resources** : menyimpan semua sumber daya untuk project ini (lexicon, slangwords, stopwords, dan lainnya) untuk bahasa Indonesia\n",
    "\n",
    "2. Notebook Filename\n",
    "- Setiap file notebook pada repository ini diberi nama dengan konvensi sebagai berikut:\n",
    "    - \"**\\<nomor_file>-\\<nama_file>**\"\n",
    "    - ***nomor_file*** menunjukkan urutan notebook tersebut harus dibuka oleh pembaca\n",
    "    - ***nama_file*** menyatakan deskripsi singkat dari isi file tersebut\n",
    "\n",
    "3. Other files\n",
    "- File-file lainnya disimpan dalam format .txt \n",
    "    - Kriteria project\n",
    "    - File ***requirements.txt*** yang berisi package requirements (python) yang diperlukan untuk menjalankan project ini pada virtual environtment"
   ]
  },
  {
   "cell_type": "markdown",
   "id": "a8dc4b28",
   "metadata": {},
   "source": [
    "# Project Title\n",
    "***\n",
    "**Analisis Sentimen pada Video Youtube berjudul \"Clash of Champions (Ruang Guru)\" dengan Bi-directional Long short-term memory dan Ekstrasi Fitur Ensemble**\n",
    "***\n",
    "Sentiment Analysis on YouTube Video entitled \"Clash of Champions (Ruang Guru)\" with Bi-directional Long short-term memory and Ensemble Feature Extraction"
   ]
  },
  {
   "cell_type": "markdown",
   "id": "4fe992da",
   "metadata": {},
   "source": [
    "# Background and Problems\n",
    "***\n",
    "1. Banyak tayangan yang tampil di TV Indonesia sudah tidak mendidik (sinetron, pembunuhan, korupsi, kejahatan, pertengkaran politik, dll)\n",
    "2. Konten edukasi yang ditayangkan oleh **Ruang Guru** berjudul **Clash of Champions** sedang trending dan hype di platform Youtube, X, Tiktok, dan Instagram per awal bulan Juli 2024. Video ini serupa dengan acara *University War* yang diadakan di Korea\n",
    "3. Dengan menganalisis penerimaan masyarakat terhadap konten tersebut harapannya dapat membantu Ruang Guru dalam menyajikan konten serupa (apabila sentimen positif lebih besar)\n",
    "\n",
    "***\n",
    "**Problems** <br>\n",
    "1. Bagaimana sebenarnya pandangan dan sentimen masyarakat terhadap konten yang sedang hyper tersebut? Apakah diterima (positif) atau tidak diterima (negatif)\n",
    "2. Bagaimana pendekatan deep learning dapat dimanfaatkan untuk bisa mengamati fenomena tersebut menggunakan data teks (komentar) yang diunggah pengguna pada platform youtube video tersebut?"
   ]
  },
  {
   "cell_type": "markdown",
   "id": "76a89d8d",
   "metadata": {},
   "source": [
    "# Objectives\n",
    "***\n",
    "- Mengetahui sentimen masyarakat terhadap konten youtube video tersebut\n",
    "- Melihat atensi masyarakat terhadap konten edukasi entertainment\n",
    "\n",
    "***\n",
    "**Harapan** <br>\n",
    "1. Ruang Guru dapat mendapatkan insight terhadap program acara yang dibuatnya terkait pandangan masyarakat terhadap konten tersebut dan bisa menjadi sarana promosi ke vendor-vendor untuk menjual lisensinya agar bisa diakses lebih luas lagi\n",
    "2. Bisa diatensi pemerintah (**TVRI, KPI, Kemdikbud, dll**) untuk bisa ditayangkan di platform tv nasional ataupun lisensinya dibeli oleh TV swasta untuk menampilkan tayangan yang mengedukasi masyarakat di Indonesia\n"
   ]
  },
  {
   "cell_type": "markdown",
   "id": "620e95c1",
   "metadata": {},
   "source": [
    "# Methodologies"
   ]
  },
  {
   "cell_type": "markdown",
   "id": "9f2544f7",
   "metadata": {},
   "source": [
    "## Data Collection \n",
    "***\n",
    "- Data diperoleh dari proses web-scraping pada platform Youtube untuk mendapatkan komentar dari pengguna terhadap video \"Clash of Champion\" yang diselenggarakan oleh Ruang Guru\n",
    "- Package **googleapiclient** dengan Python dimanfaatkan untuk proses web-scraping\n",
    "- Data komentar yang di-scraping adalah dari **Episode 1** dan **Episode 2** untuk melihat antuasisme dan sentimen masyarakat terhadap acara (konten) yang dibuat oleh Ruang Guru (*apakah diterima masyarakat dengan baik atau tidak*)"
   ]
  },
  {
   "cell_type": "markdown",
   "id": "ce7776b7",
   "metadata": {},
   "source": [
    "## Data Preprocessing\n",
    "***\n",
    "**Tahapan Preprocessing** <br>\n",
    "1. Case folding\n",
    "2. Remove multiple whitespace\n",
    "3. Change each punctiation with specific symbol (e.g \\<PUNC> for feature extraction purpose)\n",
    "4. Slang word normalization\n",
    "\n",
    "***\n",
    "- Data hasil preprocessing disimpan untuk digunakan pada tahap berikutnya"
   ]
  },
  {
   "cell_type": "markdown",
   "id": "1de6a171",
   "metadata": {},
   "source": [
    "## Data Labelling\n",
    "***\n",
    "- Raw data (data komentar pengguna) dilabeli dengan menggunakan **Lexicon-based Approach** dan **Supervised-based Approach** ke dalam kelas *Positif*, *Negatif*, dan *Neutral*\n",
    "1. **Lexicon-based Approach**\n",
    "    - Beberapa sumber lexicon berbahasa Indonesia (file ada di folder **./resources**) digunakan untuk mendapatkan skor polaritas baik dari kata-kata dan emotikon yang ada pada setiap komentar\n",
    "    - Label yang diberikan pada setiap data menggunakan aturan sederhana dan memperhatikan threshold tertentu berdasarkan pengamatan pada hasil scoring dengan lexicon nantinya, semisal:\n",
    "        - kurang dari -0,2 diberi **Negatif**\n",
    "        - -0,2 sampai 0,2 diberi **Netral**\n",
    "        - Lebih dari 0,2 diberi **Positif**\n",
    "    - Angka 0,2 (Threshold) tersebut nantinya ditentukan berdasarkan hasil scoring pada dataset sehingga belum tentu bernilai 0,2\n",
    "2. **Supervised-based Approach**\n",
    "    - Hand-crafted features akan diekstraksi dari setiap komentar lalu dilabeli secara otomatis dengan model SVM pada scikit-learn sebagai ground truth labels\n",
    "    - Hand-crafted features yang diekstraksi:\n",
    "        - Total skor kata-kata dengan polaritas positif\n",
    "        - Total skor kata-kata dengan polaritas negatif\n",
    "        - Total skor kata-kata dengan polaritas neutral\n",
    "        - Total skor emoticon dengan polaritas positif \n",
    "        - Total skor emoticon dengan polaritas negatif\n",
    "        - Total skor emoticon dengan polaritas neutral\n",
    "        - Total punctuation yang digunakan\n",
    "***\n",
    "- Dua pendekatan pelabelan pada dataset menjadi **BAGIAN DARI EKSPERIMEN** pada project ini. \n",
    "- Performa dari model yang diusulkan pada project ini akan dibandingkan dengan dua pendekatan tersebut"
   ]
  },
  {
   "cell_type": "markdown",
   "id": "f5eb5ab9",
   "metadata": {},
   "source": [
    "## Feature Extraction\n",
    "***\n",
    "- Tiga tipe fitur digunakan untuk mengklasifikasikan komentar ke dalam suatu label:\n",
    "    1. Lexicon-based Features\n",
    "        - Total skor kata-kata dengan polaritas positif\n",
    "        - Total skor kata-kata dengan polaritas negatif\n",
    "        - Total skor kata-kata dengan polaritas neutral\n",
    "        - Total skor emoticon dengan polaritas positif \n",
    "        - Total skor emoticon dengan polaritas negatif\n",
    "        - Total skor emoticon dengan polaritas neutral\n",
    "    2. TF-IDF\n",
    "        - Menghitung bobot kepentingan suatu kata pada korpus\n",
    "        - Dihitung dari data training untuk mengestimasi data testing\n",
    "    3. Word Embedding \n",
    "        - Menggunakan rata-rata vektor dari setiap kata penyusun pada suatu data \n",
    "        - Pretrained word embedding (**FastText** dan **Glove**) berbahasa Indonesia akan diunduh dan digunakan pada tahap ini\n",
    "***\n",
    "- Tipe fitur yang diekstraksi dan kombinasinya menjadi **BAGIAN DARI EKSPERIMEN** pada project ini"
   ]
  },
  {
   "cell_type": "markdown",
   "id": "bc90b4f3",
   "metadata": {},
   "source": [
    "## Data Splitting\n",
    "***\n",
    "- Dataset hasil ekstraksi fitur akan displit ke dalam tiga subset:\n",
    "    1. Data Training\n",
    "    2. Data Testing \n",
    "    3. Data Cross-validation (Stratified K-Fold)\n",
    "        - Displit dari data training yang sudah displit\n",
    "***\n",
    "- Proporsi jumlah data training, testing, dan cv menjadi **BAGIAN DARI EKSPERIMEN** pada project ini"
   ]
  },
  {
   "cell_type": "markdown",
   "id": "d8ddbba1",
   "metadata": {},
   "source": [
    "## Modelling\n",
    "***\n",
    "**Proposed Model** <br>\n",
    "- Model yang diusulkan adalah menggunakan arsitektur deep learning\n",
    "- Model yang diusulkan dilatih dengan satu atau lebih jenis kombinasi fitur\n",
    "    - Lexicon-based features\n",
    "    - TF-IDF\n",
    "    - Word Embedding\n",
    "    - TF-IDF + Word Embedding\n",
    "    - All features\n",
    "    - All features + Feature reduction with t-SNE\n",
    "    - All features + Feature reduction with PCA\n",
    "***\n",
    "**Baseline Model** <br>\n",
    "- Model pengklasifikasi berbasis machine learning classic (Gaussian Naive Bayes, Random Forest, Multilayer Perceptron) dengan pengaturan hyperparameter default digunakan untuk membandingkan kinerja dari model usulan dengan fitur TF-IDF saja\n",
    "***"
   ]
  },
  {
   "cell_type": "markdown",
   "id": "79522077",
   "metadata": {},
   "source": [
    "## Evaluation\n",
    "***\n",
    "- Performa dari model usulan dan model baseline dievaluasi pada **Data Testing** dengan metriks recall, precision, dan F1-score dengan pembobotan *macro* dan *weighted*\n",
    "- Performa rata-rata dari model usulan dan model baseline dievaluasi pada **Data Cross-validation** dengan metriks recall, precision, dan F1-score dengan pembobotan *macro* dan *weighted*\n",
    "\n",
    "***\n",
    "**Overfitting check** <br>\n",
    "- Performa model juga diukur pada data training untuk mengukur selisih performa antara fase training dan testing"
   ]
  },
  {
   "cell_type": "markdown",
   "id": "5a20aa12",
   "metadata": {},
   "source": [
    "## Inferencing new data\n",
    "***\n",
    "- Pretrained model terbaik hasil eksperimen akan disimpan (dalam format \\*.pkl) untuk tahap **inferensi** dari data baru yang "
   ]
  }
 ],
 "metadata": {
  "kernelspec": {
   "display_name": "dbs_dicoding_venv",
   "language": "python",
   "name": "dbs_dicoding_venv"
  },
  "language_info": {
   "codemirror_mode": {
    "name": "ipython",
    "version": 3
   },
   "file_extension": ".py",
   "mimetype": "text/x-python",
   "name": "python",
   "nbconvert_exporter": "python",
   "pygments_lexer": "ipython3",
   "version": "3.8.5"
  },
  "toc": {
   "base_numbering": 1,
   "nav_menu": {},
   "number_sections": true,
   "sideBar": true,
   "skip_h1_title": false,
   "title_cell": "Table of Contents",
   "title_sidebar": "Contents",
   "toc_cell": false,
   "toc_position": {
    "height": "calc(100% - 180px)",
    "left": "10px",
    "top": "150px",
    "width": "363px"
   },
   "toc_section_display": true,
   "toc_window_display": true
  }
 },
 "nbformat": 4,
 "nbformat_minor": 5
}
