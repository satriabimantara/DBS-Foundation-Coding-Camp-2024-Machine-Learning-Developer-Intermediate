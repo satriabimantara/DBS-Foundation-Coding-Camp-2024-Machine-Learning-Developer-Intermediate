{
 "cells": [
  {
   "cell_type": "markdown",
   "id": "6cae1b5f",
   "metadata": {},
   "source": [
    "# Import Libraries"
   ]
  },
  {
   "cell_type": "code",
   "execution_count": 3,
   "id": "9dda9608",
   "metadata": {},
   "outputs": [],
   "source": [
    "import pandas as pd\n",
    "import re\n",
    "import string"
   ]
  },
  {
   "cell_type": "markdown",
   "id": "b63563d0",
   "metadata": {},
   "source": [
    "# Load Raw Dataset"
   ]
  },
  {
   "cell_type": "code",
   "execution_count": 2,
   "id": "d2879f4b",
   "metadata": {},
   "outputs": [],
   "source": [
    "df = pd.read_csv('dataset/coc_ruangguru_all_episodes.csv')"
   ]
  },
  {
   "cell_type": "markdown",
   "id": "89606c64",
   "metadata": {},
   "source": [
    "# Data Preprocessing\n",
    "***\n"
   ]
  },
  {
   "cell_type": "code",
   "execution_count": null,
   "id": "b3de7713",
   "metadata": {},
   "outputs": [],
   "source": []
  }
 ],
 "metadata": {
  "kernelspec": {
   "display_name": "dbs_dicoding_venv",
   "language": "python",
   "name": "dbs_dicoding_venv"
  },
  "language_info": {
   "codemirror_mode": {
    "name": "ipython",
    "version": 3
   },
   "file_extension": ".py",
   "mimetype": "text/x-python",
   "name": "python",
   "nbconvert_exporter": "python",
   "pygments_lexer": "ipython3",
   "version": "3.8.5"
  },
  "toc": {
   "base_numbering": 1,
   "nav_menu": {},
   "number_sections": true,
   "sideBar": true,
   "skip_h1_title": false,
   "title_cell": "Table of Contents",
   "title_sidebar": "Contents",
   "toc_cell": false,
   "toc_position": {},
   "toc_section_display": true,
   "toc_window_display": false
  }
 },
 "nbformat": 4,
 "nbformat_minor": 5
}
