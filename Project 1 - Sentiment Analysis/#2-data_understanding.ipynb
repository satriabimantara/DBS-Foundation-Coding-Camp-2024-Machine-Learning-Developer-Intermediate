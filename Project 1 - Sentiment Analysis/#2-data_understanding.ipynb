{
 "cells": [
  {
   "cell_type": "markdown",
   "id": "f8509dfd",
   "metadata": {},
   "source": [
    "# Import Libraries"
   ]
  },
  {
   "cell_type": "code",
   "execution_count": 1,
   "id": "06fcb81f",
   "metadata": {},
   "outputs": [],
   "source": [
    "import pandas as pd"
   ]
  },
  {
   "cell_type": "markdown",
   "id": "c7a7201a",
   "metadata": {},
   "source": [
    "# Load Extracted Youtube Comments"
   ]
  },
  {
   "cell_type": "code",
   "execution_count": 2,
   "id": "7f7eac96",
   "metadata": {},
   "outputs": [],
   "source": [
    "df_episode_1 = pd.read_csv('dataset/coc_ruangguru_episode_1.csv')\n",
    "df_episode_2 = pd.read_csv('dataset/coc_ruangguru_episode_2.csv')"
   ]
  },
  {
   "cell_type": "code",
   "execution_count": 3,
   "id": "6d0ca827",
   "metadata": {},
   "outputs": [
    {
     "data": {
      "text/html": [
       "<div>\n",
       "<style scoped>\n",
       "    .dataframe tbody tr th:only-of-type {\n",
       "        vertical-align: middle;\n",
       "    }\n",
       "\n",
       "    .dataframe tbody tr th {\n",
       "        vertical-align: top;\n",
       "    }\n",
       "\n",
       "    .dataframe thead th {\n",
       "        text-align: right;\n",
       "    }\n",
       "</style>\n",
       "<table border=\"1\" class=\"dataframe\">\n",
       "  <thead>\n",
       "    <tr style=\"text-align: right;\">\n",
       "      <th></th>\n",
       "      <th>Comment</th>\n",
       "    </tr>\n",
       "  </thead>\n",
       "  <tbody>\n",
       "    <tr>\n",
       "      <th>0</th>\n",
       "      <td>Ayo Indonesian kerennnnnnnn, indonesia kerennnn</td>\n",
       "    </tr>\n",
       "    <tr>\n",
       "      <th>1</th>\n",
       "      <td>mantap..Pengen kuliah tpi ga sempat😢</td>\n",
       "    </tr>\n",
       "    <tr>\n",
       "      <th>2</th>\n",
       "      <td>Banyakin tayangan begini 🔥🔥</td>\n",
       "    </tr>\n",
       "    <tr>\n",
       "      <th>3</th>\n",
       "      <td>Kumpulan Anak2 kebanggaan orang tuanya.hahaha</td>\n",
       "    </tr>\n",
       "    <tr>\n",
       "      <th>4</th>\n",
       "      <td>Aku bukan orangtua mereka tp ikut bangga aja l...</td>\n",
       "    </tr>\n",
       "    <tr>\n",
       "      <th>...</th>\n",
       "      <td>...</td>\n",
       "    </tr>\n",
       "    <tr>\n",
       "      <th>9400</th>\n",
       "      <td>Cepetan dong min , ga sabarrrrr ❤❤</td>\n",
       "    </tr>\n",
       "    <tr>\n",
       "      <th>9401</th>\n",
       "      <td>Let’s gooo</td>\n",
       "    </tr>\n",
       "    <tr>\n",
       "      <th>9402</th>\n",
       "      <td>INI SEKARANG KAN</td>\n",
       "    </tr>\n",
       "    <tr>\n",
       "      <th>9403</th>\n",
       "      <td>Gak sabar nggu besokk yaa...</td>\n",
       "    </tr>\n",
       "    <tr>\n",
       "      <th>9404</th>\n",
       "      <td>Wow</td>\n",
       "    </tr>\n",
       "  </tbody>\n",
       "</table>\n",
       "<p>9405 rows × 1 columns</p>\n",
       "</div>"
      ],
      "text/plain": [
       "                                                Comment\n",
       "0       Ayo Indonesian kerennnnnnnn, indonesia kerennnn\n",
       "1                  mantap..Pengen kuliah tpi ga sempat😢\n",
       "2                           Banyakin tayangan begini 🔥🔥\n",
       "3         Kumpulan Anak2 kebanggaan orang tuanya.hahaha\n",
       "4     Aku bukan orangtua mereka tp ikut bangga aja l...\n",
       "...                                                 ...\n",
       "9400                 Cepetan dong min , ga sabarrrrr ❤❤\n",
       "9401                                         Let’s gooo\n",
       "9402                                   INI SEKARANG KAN\n",
       "9403                       Gak sabar nggu besokk yaa...\n",
       "9404                                                Wow\n",
       "\n",
       "[9405 rows x 1 columns]"
      ]
     },
     "execution_count": 3,
     "metadata": {},
     "output_type": "execute_result"
    }
   ],
   "source": [
    "df_episode_1"
   ]
  },
  {
   "cell_type": "code",
   "execution_count": 4,
   "id": "ee843f0f",
   "metadata": {},
   "outputs": [
    {
     "data": {
      "text/html": [
       "<div>\n",
       "<style scoped>\n",
       "    .dataframe tbody tr th:only-of-type {\n",
       "        vertical-align: middle;\n",
       "    }\n",
       "\n",
       "    .dataframe tbody tr th {\n",
       "        vertical-align: top;\n",
       "    }\n",
       "\n",
       "    .dataframe thead th {\n",
       "        text-align: right;\n",
       "    }\n",
       "</style>\n",
       "<table border=\"1\" class=\"dataframe\">\n",
       "  <thead>\n",
       "    <tr style=\"text-align: right;\">\n",
       "      <th></th>\n",
       "      <th>Comment</th>\n",
       "    </tr>\n",
       "  </thead>\n",
       "  <tbody>\n",
       "    <tr>\n",
       "      <th>0</th>\n",
       "      <td>Episode 3 di tunggu</td>\n",
       "    </tr>\n",
       "    <tr>\n",
       "      <th>1</th>\n",
       "      <td>Lagi nunggu eps 3</td>\n",
       "    </tr>\n",
       "    <tr>\n",
       "      <th>2</th>\n",
       "      <td>Kereen banget acara nya , semoga makin banyak ...</td>\n",
       "    </tr>\n",
       "    <tr>\n",
       "      <th>3</th>\n",
       "      <td>Kapan episode 3 min</td>\n",
       "    </tr>\n",
       "    <tr>\n",
       "      <th>4</th>\n",
       "      <td>Keren banget</td>\n",
       "    </tr>\n",
       "    <tr>\n",
       "      <th>...</th>\n",
       "      <td>...</td>\n",
       "    </tr>\n",
       "    <tr>\n",
       "      <th>8129</th>\n",
       "      <td>yahh 30 lnjtnny ya??</td>\n",
       "    </tr>\n",
       "    <tr>\n",
       "      <th>8130</th>\n",
       "      <td>can&amp;#39;t waitttyy</td>\n",
       "    </tr>\n",
       "    <tr>\n",
       "      <th>8131</th>\n",
       "      <td>Besok kah?</td>\n",
       "    </tr>\n",
       "    <tr>\n",
       "      <th>8132</th>\n",
       "      <td>😊😊😊</td>\n",
       "    </tr>\n",
       "    <tr>\n",
       "      <th>8133</th>\n",
       "      <td>yeyyyy</td>\n",
       "    </tr>\n",
       "  </tbody>\n",
       "</table>\n",
       "<p>8134 rows × 1 columns</p>\n",
       "</div>"
      ],
      "text/plain": [
       "                                                Comment\n",
       "0                                   Episode 3 di tunggu\n",
       "1                                     Lagi nunggu eps 3\n",
       "2     Kereen banget acara nya , semoga makin banyak ...\n",
       "3                                   Kapan episode 3 min\n",
       "4                                          Keren banget\n",
       "...                                                 ...\n",
       "8129                               yahh 30 lnjtnny ya??\n",
       "8130                                 can&#39;t waitttyy\n",
       "8131                                         Besok kah?\n",
       "8132                                                😊😊😊\n",
       "8133                                             yeyyyy\n",
       "\n",
       "[8134 rows x 1 columns]"
      ]
     },
     "execution_count": 4,
     "metadata": {},
     "output_type": "execute_result"
    }
   ],
   "source": [
    "df_episode_2"
   ]
  },
  {
   "cell_type": "markdown",
   "id": "9f461030",
   "metadata": {},
   "source": [
    "Total ada +-17.000 comment yang berhasil discraping dari Youtube Video **Clash of Champions\"** yang dibuat oleh **Ruang Guru** yang sedang hype. Kita bisa melihat atensi dan sentimen masyarakat terkait video entertainment ini sehingga pihak Ruang Guru dapat menggunakan informasi yang diperoleh untuk marketing mereka"
   ]
  },
  {
   "cell_type": "markdown",
   "id": "4862dbdf",
   "metadata": {},
   "source": [
    "- Comment dari pengguna banyak menggunakan emotikon yang dapat memberikan dampak polaritas (positif atau negatif) pada komen tersebut, sehingga pada tahap preprocessing kita tidak menghilangkannya namun mempertahankannya. Emotikon tersebut nantinya pada tahap fitur engineering dapat berguna dalam memberikan skor polaritas positif dan negatif dalam proses pelabelannya dengan memanfaatkan emoji lexicon pihak ketiga\n",
    "- Ada simbol-simbol lain, special characters, dan punctuation yang mesti dihilangkan"
   ]
  },
  {
   "cell_type": "markdown",
   "id": "56ed167f",
   "metadata": {},
   "source": [
    "# Merged and Save the dataset"
   ]
  },
  {
   "cell_type": "code",
   "execution_count": 7,
   "id": "eedb612e",
   "metadata": {},
   "outputs": [],
   "source": [
    "df_all_comments = pd.concat([df_episode_1,df_episode_2], axis=0)\n",
    "df_all_comments.reset_index(drop=True, inplace=True)"
   ]
  },
  {
   "cell_type": "code",
   "execution_count": 8,
   "id": "21e706fb",
   "metadata": {},
   "outputs": [
    {
     "data": {
      "text/html": [
       "<div>\n",
       "<style scoped>\n",
       "    .dataframe tbody tr th:only-of-type {\n",
       "        vertical-align: middle;\n",
       "    }\n",
       "\n",
       "    .dataframe tbody tr th {\n",
       "        vertical-align: top;\n",
       "    }\n",
       "\n",
       "    .dataframe thead th {\n",
       "        text-align: right;\n",
       "    }\n",
       "</style>\n",
       "<table border=\"1\" class=\"dataframe\">\n",
       "  <thead>\n",
       "    <tr style=\"text-align: right;\">\n",
       "      <th></th>\n",
       "      <th>Comment</th>\n",
       "    </tr>\n",
       "  </thead>\n",
       "  <tbody>\n",
       "    <tr>\n",
       "      <th>0</th>\n",
       "      <td>Ayo Indonesian kerennnnnnnn, indonesia kerennnn</td>\n",
       "    </tr>\n",
       "    <tr>\n",
       "      <th>1</th>\n",
       "      <td>mantap..Pengen kuliah tpi ga sempat😢</td>\n",
       "    </tr>\n",
       "    <tr>\n",
       "      <th>2</th>\n",
       "      <td>Banyakin tayangan begini 🔥🔥</td>\n",
       "    </tr>\n",
       "    <tr>\n",
       "      <th>3</th>\n",
       "      <td>Kumpulan Anak2 kebanggaan orang tuanya.hahaha</td>\n",
       "    </tr>\n",
       "    <tr>\n",
       "      <th>4</th>\n",
       "      <td>Aku bukan orangtua mereka tp ikut bangga aja l...</td>\n",
       "    </tr>\n",
       "    <tr>\n",
       "      <th>...</th>\n",
       "      <td>...</td>\n",
       "    </tr>\n",
       "    <tr>\n",
       "      <th>17534</th>\n",
       "      <td>yahh 30 lnjtnny ya??</td>\n",
       "    </tr>\n",
       "    <tr>\n",
       "      <th>17535</th>\n",
       "      <td>can&amp;#39;t waitttyy</td>\n",
       "    </tr>\n",
       "    <tr>\n",
       "      <th>17536</th>\n",
       "      <td>Besok kah?</td>\n",
       "    </tr>\n",
       "    <tr>\n",
       "      <th>17537</th>\n",
       "      <td>😊😊😊</td>\n",
       "    </tr>\n",
       "    <tr>\n",
       "      <th>17538</th>\n",
       "      <td>yeyyyy</td>\n",
       "    </tr>\n",
       "  </tbody>\n",
       "</table>\n",
       "<p>17539 rows × 1 columns</p>\n",
       "</div>"
      ],
      "text/plain": [
       "                                                 Comment\n",
       "0        Ayo Indonesian kerennnnnnnn, indonesia kerennnn\n",
       "1                   mantap..Pengen kuliah tpi ga sempat😢\n",
       "2                            Banyakin tayangan begini 🔥🔥\n",
       "3          Kumpulan Anak2 kebanggaan orang tuanya.hahaha\n",
       "4      Aku bukan orangtua mereka tp ikut bangga aja l...\n",
       "...                                                  ...\n",
       "17534                               yahh 30 lnjtnny ya??\n",
       "17535                                 can&#39;t waitttyy\n",
       "17536                                         Besok kah?\n",
       "17537                                                😊😊😊\n",
       "17538                                             yeyyyy\n",
       "\n",
       "[17539 rows x 1 columns]"
      ]
     },
     "execution_count": 8,
     "metadata": {},
     "output_type": "execute_result"
    }
   ],
   "source": [
    "df_all_comments"
   ]
  },
  {
   "cell_type": "code",
   "execution_count": 9,
   "id": "64347897",
   "metadata": {},
   "outputs": [],
   "source": [
    "df_all_comments.to_csv('dataset/coc_ruangguru_all_episodes.csv', index=False)"
   ]
  },
  {
   "cell_type": "code",
   "execution_count": null,
   "id": "9967af46",
   "metadata": {},
   "outputs": [],
   "source": []
  }
 ],
 "metadata": {
  "kernelspec": {
   "display_name": "dbs_dicoding_venv",
   "language": "python",
   "name": "dbs_dicoding_venv"
  },
  "language_info": {
   "codemirror_mode": {
    "name": "ipython",
    "version": 3
   },
   "file_extension": ".py",
   "mimetype": "text/x-python",
   "name": "python",
   "nbconvert_exporter": "python",
   "pygments_lexer": "ipython3",
   "version": "3.8.5"
  },
  "toc": {
   "base_numbering": 1,
   "nav_menu": {},
   "number_sections": true,
   "sideBar": true,
   "skip_h1_title": false,
   "title_cell": "Table of Contents",
   "title_sidebar": "Contents",
   "toc_cell": false,
   "toc_position": {},
   "toc_section_display": true,
   "toc_window_display": false
  }
 },
 "nbformat": 4,
 "nbformat_minor": 5
}
